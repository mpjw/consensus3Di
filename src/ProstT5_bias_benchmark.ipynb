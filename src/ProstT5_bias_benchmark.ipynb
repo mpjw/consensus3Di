{
 "cells": [
  {
   "cell_type": "markdown",
   "metadata": {},
   "source": [
    "# Benchmarking ProstT5 target class bias\n",
    "In previous prjects we observed a tendency of ProstT5 to show more bias towards majority target classes.\n",
    "Thus, this notebook investigates this phenomenon."
   ]
  },
  {
   "cell_type": "markdown",
   "metadata": {},
   "source": [
    "## Prep test data\n",
    "For testing use the 100 longest entries in SCOPe"
   ]
  },
  {
   "cell_type": "code",
   "execution_count": null,
   "metadata": {
    "vscode": {
     "languageId": "shellscript"
    }
   },
   "outputs": [],
   "source": [
    "mkdir -p data/scopeseq-2.08/\n",
    "wget -P data/scopeseq-2.08/ https://scop.berkeley.edu/downloads/scopeseq-2.08/astral-scopedom-seqres-gd-all-2.08-stable.fa"
   ]
  },
  {
   "cell_type": "code",
   "execution_count": null,
   "metadata": {},
   "outputs": [],
   "source": [
    "# SCOPe sequence fasta file is in multi line lower case format, we want one line upper case\n",
    "from pathlib import Path\n",
    "\n",
    "scope_path = Path('data/scopeseq-2.08/astral-scopedom-seqres-gd-all-2.08-stable.fa')\n",
    "assert scope_path.exists()\n",
    "scope_entries = list()\n",
    "n_longest = 100\n",
    "\n",
    "# read fasta and save longest sequecnes on the fly\n",
    "# TODO: use doubly linked list or dequeue and \n",
    "with open('data/prostt5_bias/uniprot_test.fasta', 'r') as fasta_in:\n",
    "    header = ''\n",
    "    seq = ''\n",
    "    for line in fasta_in:\n",
    "        if line.startswith('>'):\n",
    "            if seq != '':\n",
    "                scope_entries.append((header, seq))\n",
    "            header = line.strip().removeprefix('>')\n",
    "            seq = ''\n",
    "        else:\n",
    "            seq += line.strip().upper()\n",
    "    scope_entries.append((header, seq))\n",
    "\n",
    "scope_entries = sorted(scope_entries, key=lambda x: len(x[1]), reverse=True)\n",
    "\n",
    "# write n longest sequence to file\n",
    "with open('data/prostt5_bias/test.fasta', 'w') as fasta_out:\n",
    "    for i in range(n_longest):\n",
    "        fasta_out.write('>{}\\n{}\\n'.format(scope_entries[i][0], scope_entries[i][1]))"
   ]
  },
  {
   "cell_type": "markdown",
   "metadata": {},
   "source": [
    "Conclusion: the longest SCOPe entries range from 1205 to 1664 in sequence length. So this dataset does not fit our needs.\n",
    "However, UniProtKB only lists 70 entires longer than 6000 with PDB entry and 4 entries with AFDB entry.\n",
    "For simplicity I just selected 6 entries:"
   ]
  },
  {
   "cell_type": "code",
   "execution_count": null,
   "metadata": {
    "vscode": {
     "languageId": "shellscript"
    }
   },
   "outputs": [],
   "source": [
    "DATA_PATH=data/prostt5_bias_test/pdb\n",
    "mkdir -p $DATA_PATH\n",
    "wget -P $DATA_PATH https://ftp.ebi.ac.uk/pub/databases/rcsb/pdb-remediated/data/structures/divided/pdb/oi/pdb1oig.ent.gz https://ftp.ebi.ac.uk/pub/databases/rcsb/pdb-remediated/data/structures/divided/pdb/ia/pdb2iak.ent.gz https://ftp.ebi.ac.uk/pub/databases/rcsb/pdb-remediated/data/structures/divided/pdb/ko/pdb1koa.ent.gz https://ftp.ebi.ac.uk/pub/databases/rcsb/pdb-remediated/data/structures/divided/pdb/ej/pdb3ejf.ent.gz https://ftp.ebi.ac.uk/pub/databases/rcsb/pdb-remediated/data/structures/divided/pdb/nh/pdb7nh7.ent.gz https://ftp.ebi.ac.uk/pub/databases/rcsb/pdb-remediated/data/structures/divided/pdb/ar/pdb1ark.ent.gz"
   ]
  },
  {
   "cell_type": "code",
   "execution_count": null,
   "metadata": {
    "vscode": {
     "languageId": "shellscript"
    }
   },
   "outputs": [],
   "source": [
    "DB_PATH=data/prostt5_bias_test/dbs/foldseek\n",
    "mkdir -p $DB_PATH\n",
    "\n",
    "# conda activate prostt5\n",
    "foldseek createdb $DATA_PATH/* $DB_PATH/baseline\n",
    "\n",
    "foldseek convert2fasta $DB_PATH/baseline $(dirname $DATA_PATH)/baseline.aa.fasta"
   ]
  },
  {
   "cell_type": "code",
   "execution_count": null,
   "metadata": {
    "vscode": {
     "languageId": "shellscript"
    }
   },
   "outputs": [],
   "source": [
    "TEST_DATA=data/prostt5_bias_test/baseline.aa.fasta\n",
    "PROSTT5_MODEL=/home/sukhwan/foldseek_ctranslate/foldseek/weights/model/\n",
    "# generate foldseek databases using ctranslate2 branch using different split legnth for prostt5\n",
    "srun -p gpu --gres=gpu:1 -c 4 -t 1-0 --pty /bin/bash\n",
    "for SPLIT_LENGTH in {500..6000..1250}: do\n",
    "    lib/foldseek createdb $TEST_DATA $DB_PATH/prsott5_bias_$SPLIT_LENGTH --prostt5-model $PROSTT5_MODEL --prostt5-split-length $SPLIT_LENGTH;\n",
    "done"
   ]
  },
  {
   "cell_type": "code",
   "execution_count": null,
   "metadata": {},
   "outputs": [],
   "source": [
    "# TODO: calculate value for 3Di class balance\n",
    "\n",
    "# TODO: plot class imbalance value (y) versus split length (x)\n",
    "\n",
    "# TODO: compare versus \"ground truth\" (vanilla foldseek generated 3Di from .pdb or .mmcif files)"
   ]
  }
 ],
 "metadata": {
  "kernelspec": {
   "display_name": "prostt5",
   "language": "python",
   "name": "python3"
  },
  "language_info": {
   "codemirror_mode": {
    "name": "ipython",
    "version": 3
   },
   "file_extension": ".py",
   "mimetype": "text/x-python",
   "name": "python",
   "nbconvert_exporter": "python",
   "pygments_lexer": "ipython3",
   "version": "3.10.13"
  }
 },
 "nbformat": 4,
 "nbformat_minor": 2
}
