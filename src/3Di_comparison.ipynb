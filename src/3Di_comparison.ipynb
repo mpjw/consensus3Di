{
 "cells": [
  {
   "cell_type": "markdown",
   "metadata": {},
   "source": [
    "# Notebook for making 3Di consensus sequence comparisons between ProstT5 and foldseek\n"
   ]
  },
  {
   "cell_type": "code",
   "execution_count": 1,
   "metadata": {},
   "outputs": [],
   "source": [
    "from Bio import SeqIO\n",
    "import pandas as pd\n",
    "from plotnine import ggplot, geom_histogram, aes, theme_bw, labs\n",
    "\n",
    "def hamming_distance(seq1: str, seq2: str) -> int:\n",
    "    \"\"\"\n",
    "    Funciton to compute hamming distance between two DNA strings.\n",
    "    \"\"\"\n",
    "    assert len(seq1) == len(seq1)\n",
    "    \n",
    "    # naive approach: count differences\n",
    "    return len([i for i in range(len(seq1)) if seq1[i] != seq2[i]])\n",
    "\n",
    "def sequence_identity(seq1: str, seq2: str, method='hamming') -> float:\n",
    "    \"\"\"\n",
    "    Function to calculate sequence identiy.\n",
    "    \"\"\"\n",
    "    assert len(seq1) == len(seq2)\n",
    "\n",
    "    match method:\n",
    "        case 'hamming':\n",
    "            return ( len(seq1) - hamming_distance(seq1, seq2) ) / len(seq1)\n"
   ]
  },
  {
   "cell_type": "code",
   "execution_count": 2,
   "metadata": {},
   "outputs": [
    {
     "data": {
      "text/plain": [
       "b'/home/mpjw/study/bioinformatics/semesters/2024s/steineggerLab-SNU/consensus3Di'"
      ]
     },
     "execution_count": 2,
     "metadata": {},
     "output_type": "execute_result"
    }
   ],
   "source": [
    "import os\n",
    "os.chdir('..')\n",
    "os.getcwdb()"
   ]
  },
  {
   "cell_type": "markdown",
   "metadata": {},
   "source": [
    "## Start sequences"
   ]
  },
  {
   "cell_type": "code",
   "execution_count": 26,
   "metadata": {
    "metadata": {}
   },
   "outputs": [
    {
     "name": "stderr",
     "output_type": "stream",
     "text": [
      "/home/mpjw/miniconda3/envs/prostt5/lib/python3.10/site-packages/plotnine/ggplot.py:606: PlotnineWarning: Saving 15 x 10 in image.\n",
      "/home/mpjw/miniconda3/envs/prostt5/lib/python3.10/site-packages/plotnine/ggplot.py:607: PlotnineWarning: Filename: out/scope_start_3Di_sequence_identity_hist.png\n",
      "/home/mpjw/miniconda3/envs/prostt5/lib/python3.10/site-packages/plotnine/stats/stat_bin.py:109: PlotnineWarning: 'stat_bin()' using 'bins = 25'. Pick better value with 'binwidth'.\n"
     ]
    }
   ],
   "source": [
    "fsk_base_fa = \"out/scope/scope.foldseek.3Di.fasta\"\n",
    "pt5_base_fa = \"out/scope/scope.prostt5.3Di.fasta\"\n",
    "fsk_base_file = SeqIO.parse(fsk_base_fa,  \"fasta\")\n",
    "pt5_base_file = SeqIO.parse(pt5_base_fa, \"fasta\") \n",
    "\n",
    "fsk_base_recs = {e.id.replace('.pdb', ''): e for e in fsk_base_file}\n",
    "# pt5_base_recs = {e.id.replace('.pdb', ''): e for e in pt5_base_file}\n",
    "\n",
    "base_seq_id = {e.id.replace('.pdb', ''): sequence_identity(e.seq, fsk_base_recs[e.id.replace('.pdb', '')].seq) for e in pt5_base_file}\n",
    "\n",
    "df_start_seq_id = pd.DataFrame(base_seq_id.items(), columns = ['pdb_id', 'seq_identity'])\n",
    "\n",
    "df_start_seq_id[['seq_identity']].describe()\n",
    "\n",
    "plot = (\n",
    "    ggplot(df_start_seq_id, aes(x='seq_identity')) + \n",
    "        geom_histogram() + \n",
    "        theme_bw() + \n",
    "        labs(title = \"Initial 3Di foldseek to ProstT5 sequence identity\", x = \"Sequence identity\", y = \"Count\")\n",
    ")\n",
    "plot.save('out/scope_start_3Di_sequence_identity_hist.png', format='png', height=10, width=15)"
   ]
  },
  {
   "cell_type": "markdown",
   "metadata": {},
   "source": [
    "## ProstT5 encoder only consensus sequences\n",
    "This section compares the results for predicting consensus 3Di sequences from initial foldseek 3Dis and 3Dis obtained from ProstT5's encoder only on the test data fasta file.\n"
   ]
  },
  {
   "cell_type": "code",
   "execution_count": 27,
   "metadata": {
    "metadata": {}
   },
   "outputs": [
    {
     "name": "stderr",
     "output_type": "stream",
     "text": [
      "/home/mpjw/miniconda3/envs/prostt5/lib/python3.10/site-packages/plotnine/ggplot.py:606: PlotnineWarning: Saving 15 x 10 in image.\n",
      "/home/mpjw/miniconda3/envs/prostt5/lib/python3.10/site-packages/plotnine/ggplot.py:607: PlotnineWarning: Filename: out/scope_3Di_sequence_identity_hist.png\n",
      "/home/mpjw/miniconda3/envs/prostt5/lib/python3.10/site-packages/plotnine/stats/stat_bin.py:109: PlotnineWarning: 'stat_bin()' using 'bins = 29'. Pick better value with 'binwidth'.\n"
     ]
    }
   ],
   "source": [
    "fsk_fa = \"out/scope/foldseek/foldseek3Di.encoderOnlyAA.encoderOnly3Di.fasta\"\n",
    "pt5_fa = \"out/scope/prostt5/prostt53Di.encoderOnlyAA.encoderOnly3Di.fasta\"\n",
    "fsk_file = SeqIO.parse(fsk_fa,  \"fasta\")\n",
    "pt5_file = SeqIO.parse(pt5_fa, \"fasta\") \n",
    "\n",
    "fold_entries = {e.id.replace('.pdb', ''): e for e in fsk_file}\n",
    "\n",
    "seq_id = {e.id.replace('.pdb', ''): sequence_identity(e.seq, fold_entries[e.id.replace('.pdb', '')].seq) for e in pt5_file}\n",
    "\n",
    "df_seq_id = pd.DataFrame(seq_id.items(), columns = ['pdb_id', 'seq_identity'])\n",
    "\n",
    "df_seq_id[['seq_identity']].describe()\n",
    "\n",
    "plot = (\n",
    "    ggplot(df_seq_id, aes(x='seq_identity')) + \n",
    "        geom_histogram() + \n",
    "        theme_bw() + \n",
    "        labs(title = \"3Di sequence identity of ProstT5 inferrence (foldseek vs ProstT5 start)\", x = \"Sequence identity\", y = \"Count\")\n",
    ")\n",
    "plot.save('out/scope_3Di_sequence_identity_hist.png', format='png', height=10, width=15)"
   ]
  },
  {
   "cell_type": "markdown",
   "metadata": {},
   "source": [
    "## ProstT5 consensus based on foldseek versus foldseek consensus"
   ]
  },
  {
   "cell_type": "code",
   "execution_count": 25,
   "metadata": {
    "metadata": {}
   },
   "outputs": [
    {
     "name": "stderr",
     "output_type": "stream",
     "text": [
      "/home/mpjw/miniconda3/envs/prostt5/lib/python3.10/site-packages/plotnine/ggplot.py:606: PlotnineWarning: Saving 15 x 10 in image.\n",
      "/home/mpjw/miniconda3/envs/prostt5/lib/python3.10/site-packages/plotnine/ggplot.py:607: PlotnineWarning: Filename: out/foldseek_consensus.foldseek_prostt5.3Di.seq_identity.hist.png\n",
      "/home/mpjw/miniconda3/envs/prostt5/lib/python3.10/site-packages/plotnine/stats/stat_bin.py:109: PlotnineWarning: 'stat_bin()' using 'bins = 17'. Pick better value with 'binwidth'.\n"
     ]
    }
   ],
   "source": [
    "fsk_cons_fa = \"out/foldseek/foldseek.3Di.consensus.fasta\"\n",
    "pt5_cons_fa = \"out/scope/foldseek/foldseek3Di.encoderOnlyAA.encoderOnly3Di.fasta\"\n",
    "fsk_cons_file = SeqIO.parse(fsk_cons_fa,  \"fasta\")\n",
    "pt5_cons_file = SeqIO.parse(pt5_cons_fa, \"fasta\") \n",
    "\n",
    "fsk_cons_recs = {e.id.replace('.pdb', ''): e for e in fsk_cons_file}\n",
    "pt5_cons_recs = {e.id.replace('_pdb', ''): e for e in pt5_cons_file}\n",
    "\n",
    "seq_id = {e.id: sequence_identity(e.seq, fsk_cons_recs[i].seq) for i, e in pt5_cons_recs.items()}\n",
    "\n",
    "df_seq_id = pd.DataFrame(seq_id.items(), columns = ['pdb_id', 'seq_identity'])\n",
    "\n",
    "df_seq_id[['seq_identity']].describe()\n",
    "\n",
    "plot = (\n",
    "    ggplot(df_seq_id, aes(x='seq_identity')) + \n",
    "        geom_histogram() + \n",
    "        theme_bw() + \n",
    "        labs(title = \"3Di sequence identity of ProstT5 on foldseek initial vs foldseek consensus\", x = \"Sequence identity\", y = \"Count\")\n",
    ")\n",
    "plot.save('out/foldseek_consensus.foldseek_prostt5.3Di.seq_identity.hist.png', format='png', height=10, width=15)"
   ]
  },
  {
   "cell_type": "code",
   "execution_count": 24,
   "metadata": {
    "metadata": {}
   },
   "outputs": [
    {
     "name": "stdout",
     "output_type": "stream",
     "text": [
      "498\n",
      "498\n",
      "['d1y5ia2_pdb', 'd1p80a2_pdb', 'd1hk8a__pdb', 'd3c98a__pdb', 'd1ehka__pdb', 'd3ss1a__pdb', 'd3bvua2_pdb', 'd1y5ib__pdb', 'd1uqwa__pdb', 'd3qoma__pdb']\n",
      "['d1a17a_.pdb', 'd1a1xa_.pdb', 'd1a4ia2.pdb', 'd1a6bb_.pdb', 'd1a8ya2.pdb', 'd1alla_.pdb', 'd1auoa_.pdb', 'd1b24a2.pdb', 'd1b79a_.pdb', 'd1b8wa_.pdb']\n",
      "0\n"
     ]
    }
   ],
   "source": [
    "print(len(pt5_cons_recs))\n",
    "print(len(fsk_cons_recs))\n",
    "print(list(pt5_cons_recs)[:10])\n",
    "print(list(fsk_cons_recs)[:10])\n",
    "print(len(set(fsk_cons_recs.keys()).intersection(set(pt5_cons_recs.keys()))))"
   ]
  },
  {
   "cell_type": "code",
   "execution_count": 6,
   "metadata": {},
   "outputs": [],
   "source": [
    "prost_file = SeqIO.parse(prostt5_fasta, \"fasta\")\n",
    "post_entries = {e.id: e for e in prost_file}"
   ]
  },
  {
   "cell_type": "code",
   "execution_count": 19,
   "metadata": {},
   "outputs": [
    {
     "data": {
      "text/plain": [
       "dict_keys(['d1y5ia2.pdb', 'd1p80a2.pdb', 'd1hk8a_.pdb', 'd3c98a_.pdb', 'd1ehka_.pdb', 'd3ss1a_.pdb', 'd3bvua2.pdb', 'd1y5ib_.pdb', 'd1uqwa_.pdb', 'd3qoma_.pdb', 'd1wcga1.pdb', 'd2p3ya1.pdb', 'd1x9da1.pdb', 'd1shyb1.pdb', 'd2bw3a2.pdb', 'd3bzna_.pdb', 'd2qvja_.pdb', 'd1k0ga_.pdb', 'd3fvsa_.pdb', 'd2h12a_.pdb', 'd2qeea_.pdb', 'd3bona1.pdb', 'd2hhva2.pdb', 'd2byla1.pdb', 'd1hx0a2.pdb', 'd2rfva_.pdb', 'd1hn0a1.pdb', 'd1lfka_.pdb', 'd1kfwa1.pdb', 'd1xksa_.pdb', 'd1edqa2.pdb', 'd1kiya_.pdb', 'd1koba_.pdb', 'd2sqca1.pdb', 'd2xrwa_.pdb', 'd1iuga_.pdb', 'd1n4qb_.pdb', 'd1e1oa2.pdb', 'd1svva_.pdb', 'd2rfba_.pdb', 'd1szwa_.pdb', 'd1ri6a_.pdb', 'd1hjua_.pdb', 'd1tb3a1.pdb', 'd1rhca_.pdb', 'd1gkra2.pdb', 'd1zyla1.pdb', 'd2afwa_.pdb', 'd2f8la1.pdb', 'd3bzka3.pdb', 'd1c8ba_.pdb', 'd1l7aa_.pdb', 'd1n00a_.pdb', 'd3ljsa_.pdb', 'd1dmha_.pdb', 'd1q8fa_.pdb', 'd2bbva_.pdb', 'd3iq0a_.pdb', 'd1u3da1.pdb', 'd1z3ix2.pdb', 'd2a0ma1.pdb', 'd3aala_.pdb', 'd1d7oa_.pdb', 'd3o26a_.pdb', 'd3poza_.pdb', 'd1k32a4.pdb', 'd1q15a1.pdb', 'd1r53a_.pdb', 'd1lj8a4.pdb', 'd2hx1a_.pdb', 'd1cnva_.pdb', 'd1js8a1.pdb', 'd1ei9a_.pdb', 'd1w6ka2.pdb', 'd1rp0a1.pdb', 'd1rtra_.pdb', 'd2g0wa1.pdb', 'd3dnpa_.pdb', 'd2plca_.pdb', 'd2x55a_.pdb', 'd3mu7a_.pdb', 'd2czla1.pdb', 'd2x4da_.pdb', 'd1opoa_.pdb', 'd2xy4a_.pdb', 'd2jf2a_.pdb', 'd1uoca_.pdb', 'd2a8ya_.pdb', 'd1jr2a_.pdb', 'd1qh5a_.pdb', 'd1huxa_.pdb', 'd1oaaa_.pdb', 'd1qgia_.pdb', 'd1yf3a1.pdb', 'd3o6ca_.pdb', 'd3px8x_.pdb', 'd1r3da_.pdb', 'd3gdla_.pdb', 'd1xfja_.pdb', 'd3vhva_.pdb', 'd1sbya_.pdb', 'd2gqfa1.pdb', 'd3sbta_.pdb', 'd1lbva_.pdb', 'd1i4na_.pdb', 'd2cfca_.pdb', 'd1ca1a1.pdb', 'd1nrfa_.pdb', 'd1ub0a_.pdb', 'd3ctka1.pdb', 'd1sfna_.pdb', 'd2jjxa_.pdb', 'd1za0a1.pdb', 'd1llaa3.pdb', 'd1v0wa2.pdb', 'd1yo6a1.pdb', 'd1gph12.pdb', 'd1s68a_.pdb', 'd3k4ua_.pdb', 'd1fj2a_.pdb', 'd2a1fa1.pdb', 'd2c53a_.pdb', 'd1s5pa_.pdb', 'd2ps1a_.pdb', 'd1jjta_.pdb', 'd1auoa_.pdb', 'd1epwa1.pdb', 'd1rwta_.pdb', 'd2ex4a1.pdb', 'd2nyva_.pdb', 'd3tuia_.pdb', 'd1l8qa2.pdb', 'd1se8a_.pdb', 'd1o5oa_.pdb', 'd1ppja2.pdb', 'd2qgsa1.pdb', 'd2uubd1.pdb', 'd3b7sa2.pdb', 'd3bema_.pdb', 'd2fz4a1.pdb', 'd2fpna1.pdb', 'd3mh9a_.pdb', 'd1dv1a3.pdb', 'd1ln1a_.pdb', 'd1cjxa2.pdb', 'd1r44a_.pdb', 'd2c2la1.pdb', 'd1o5ha_.pdb', 'd2p6ra3.pdb', 'd1wc3a_.pdb', 'd3a8ga_.pdb', 'd1t4wa_.pdb', 'd2c1ia1.pdb', 'd2ccja_.pdb', 'd1nxma_.pdb', 'd1xs1a_.pdb', 'd2auaa1.pdb', 'd2fxta1.pdb', 'd3byqa1.pdb', 'd1s8na_.pdb', 'd1ulya_.pdb', 'd1hp1a1.pdb', 'd2jgba_.pdb', 'd2b0aa1.pdb', 'd2ic7a_.pdb', 'd1pbwa_.pdb', 'd1smyf3.pdb', 'd1mpga1.pdb', 'd1yrea1.pdb', 'd2ghvc1.pdb', 'd1m3sa_.pdb', 'd1jwqa_.pdb', 'd1dgwa_.pdb', 'd1ozha1.pdb', 'd1qhxa_.pdb', 'd2giya1.pdb', 'd2guia_.pdb', 'd2gupa2.pdb', 'd1wmxa_.pdb', 'd1q59a_.pdb', 'd1ez4a2.pdb', 'd3bwza_.pdb', 'd3eg7a_.pdb', 'd1hfua2.pdb', 'd1gkza2.pdb', 'd1vcha1.pdb', 'd1jroa4.pdb', 'd1ow1a_.pdb', 'd1s16a1.pdb', 'd1xhca1.pdb', 'd2chca1.pdb', 'd2f2la_.pdb', 'd3d37a1.pdb', 'd3iwta_.pdb', 'd1k94a_.pdb', 'd2ag4a_.pdb', 'd3lmba_.pdb', 'd1nm3a2.pdb', 'd2b1xa1.pdb', 'd2j9la1.pdb', 'd3cu3a1.pdb', 'd1xl4a1.pdb', 'd2cx4a_.pdb', 'd2fsja1.pdb', 'd1alla_.pdb', 'd1ja1a3.pdb', 'd1wp0a1.pdb', 'd1a17a_.pdb', 'd1f3va_.pdb', 'd1ohea1.pdb', 'd1omwa1.pdb', 'd1vmda_.pdb', 'd1ybea2.pdb', 'd1ys5a1.pdb', 'd1rl4a_.pdb', 'd1ulia1.pdb', 'd1sh8a_.pdb', 'd1ku9a_.pdb', 'd1gmea_.pdb', 'd1ji6a1.pdb', 'd1ml4a1.pdb', 'd1e7ua2.pdb', 'd1yrva1.pdb', 'd1w1ha_.pdb', 'd2vmha_.pdb', 'd1f1ua1.pdb', 'd2bzva_.pdb', 'd1efub2.pdb', 'd2fug34.pdb', 'd1k3ya1.pdb', 'd1xa6a2.pdb', 'd2wcja_.pdb', 'd3pmga4.pdb', 'd1rj8a_.pdb', 'd1sqga1.pdb', 'd1eqfa1.pdb', 'd1qhqa_.pdb', 'd1sgoa_.pdb', 'd2bcma_.pdb', 'd2vkva2.pdb', 'd5nula_.pdb', 'd2f7fa2.pdb', 'd3ipra_.pdb', 'd1iuka_.pdb', 'd2bmfa1.pdb', 'd1eova1.pdb', 'd1w9sa_.pdb', 'd2a9ua1.pdb', 'd2hqya2.pdb', 'd1f45b_.pdb', 'd1h72c2.pdb', 'd1kbla2.pdb', 'd1njka_.pdb', 'd1r2za2.pdb', 'd1boua_.pdb', 'd1j5pa4.pdb', 'd1ki1b2.pdb', 'd1wf6a_.pdb', 'd2g7ga2.pdb', 'd2hy5b1.pdb', 'd2a0aa1.pdb', 'd2lisa_.pdb', 'd1ixla_.pdb', 'd1jf8a_.pdb', 'd1jyoa_.pdb', 'd1lbua2.pdb', 'd1ycsb1.pdb', 'd2q78a1.pdb', 'd3c9ga_.pdb', 'd2cbia1.pdb', 'd2xcea_.pdb', 'd1i5na_.pdb', 'd1vm6a3.pdb', 'd2fupa1.pdb', 'd1qy9a1.pdb', 'd1riea_.pdb', 'd1w7ca2.pdb', 'd2gkma_.pdb', 'd1kzyc1.pdb', 'd1wifa_.pdb', 'd2egja_.pdb', 'd1a4ia2.pdb', 'd1zsqa1.pdb', 'd2dtge3.pdb', 'd2uubm1.pdb', 'd1j56a_.pdb', 'd1q79a3.pdb', 'd1zpsa1.pdb', 'd2cnza_.pdb', 'd2fyga1.pdb', 'd1b9ma1.pdb', 'd2gl5a2.pdb', 'd2q4qa_.pdb', 'd3ktoa_.pdb', 'd3mw6a_.pdb', 'd1jpya_.pdb', 'd2ogfa_.pdb', 'd1jiha1.pdb', 'd1l0wa2.pdb', 'd1pbja3.pdb', 'd1scfa_.pdb', 'd1f7la_.pdb', 'd1v6ba_.pdb', 'd1zbxb1.pdb', 'd2pbea2.pdb', 'd1v5ua_.pdb', 'd1wfoa1.pdb', 'd1x7fa1.pdb', 'd2nrha2.pdb', 'd1pv9a1.pdb', 'd1y81a1.pdb', 'd2dtge2.pdb', 'd1h99a1.pdb', 'd2if5a_.pdb', 'd1zc6a1.pdb', 'd2i52a1.pdb', 'd3q20a_.pdb', 'd1cg2a2.pdb', 'd1xnea_.pdb', 'd1edha2.pdb', 'd1wjxa_.pdb', 'd1yq2a1.pdb', 'd2gria1.pdb', 'd3ff7c_.pdb', 'd1nyca_.pdb', 'd1r4xa2.pdb', 'd3bvua1.pdb', 'd1hcnb_.pdb', 'd1prtb1.pdb', 'd1u5pa1.pdb', 'd2hw4a1.pdb', 'd2i10a2.pdb', 'd1es6a2.pdb', 'd2nqda_.pdb', 'd2jo6a1.pdb', 'd1jvaa3.pdb', 'd1l3wa5.pdb', 'd1rq2a2.pdb', 'd1a1xa_.pdb', 'd1jvaa2.pdb', 'd1y6kr2.pdb', 'd1v70a_.pdb', 'd1xdpa1.pdb', 'd1xoda1.pdb', 'd2fcia1.pdb', 'd1lxja_.pdb', 'd2qqma3.pdb', 'd1i3za_.pdb', 'd1j5pa3.pdb', 'd1a8ya2.pdb', 'd1b79a_.pdb', 'd1rzfl2.pdb', 'd2b0ja1.pdb', 'd2bz7a_.pdb', 'd3ge3e_.pdb', 'd1puca_.pdb', 'd1yt3a1.pdb', 'd2blna1.pdb', 'd1f2ri_.pdb', 'd1ka8a_.pdb', 'd1rf8b_.pdb', 'd1t0fa1.pdb', 'd1gm5a1.pdb', 'd1sxje1.pdb', 'd1y9qa2.pdb', 'd3cs0a1.pdb', 'd2aiba1.pdb', 'd1p2fa1.pdb', 'd1s98a_.pdb', 'd1whya_.pdb', 'd2es9a1.pdb', 'd3dara1.pdb', 'd1mjuh2.pdb', 'd1vk3a4.pdb', 'd2k5qa1.pdb', 'd3dl3a1.pdb', 'd1n7ea_.pdb', 'd1oaca2.pdb', 'd1qe0a1.pdb', 'd2gysa3.pdb', 'd1kzla1.pdb', 'd2xcmc_.pdb', 'd1e43a1.pdb', 'd1g8qa_.pdb', 'd1x44a1.pdb', 'd2cqia1.pdb', 'd2ctfa1.pdb', 'd3bzka1.pdb', 'd1coja1.pdb', 'd1cvja2.pdb', 'd1zara1.pdb', 'd2gysa4.pdb', 'd1npsa_.pdb', 'd1vzia1.pdb', 'd1wmia1.pdb', 'd1m62a_.pdb', 'd1x3aa1.pdb', 'd1y6xa1.pdb', 'd2cg4a2.pdb', 'd2lefa_.pdb', 'd1hfel2.pdb', 'd1wffa_.pdb', 'd3ctaa1.pdb', 'd1sc6a3.pdb', 'd1wiha_.pdb', 'd1yqba1.pdb', 'd3ag3g_.pdb', 'd1uvqa2.pdb', 'd3a38a_.pdb', 'd1vlya1.pdb', 'd2o3la1.pdb', 'd2rcfa1.pdb', 'd2zcwa1.pdb', 'd1sfea2.pdb', 'd1urfa_.pdb', 'd1kqka_.pdb', 'd1ttna1.pdb', 'd2b2ya1.pdb', 'd2oaia1.pdb', 'd1b24a2.pdb', 'd1x6oa2.pdb', 'd1gksa_.pdb', 'd1pbya3.pdb', 'd1wewa_.pdb', 'd1ygya3.pdb', 'd1eo0a_.pdb', 'd1t8ka_.pdb', 'd1tu7a2.pdb', 'd1hlqa_.pdb', 'd2nrha1.pdb', 'd1el0a_.pdb', 'd1fcda3.pdb', 'd1in0a2.pdb', 'd2dt5a1.pdb', 'd1bo9a_.pdb', 'd1grja2.pdb', 'd1qrva_.pdb', 'd1vq8z1.pdb', 'd1z0pa1.pdb', 'd2v8qb1.pdb', 'd1jw2a_.pdb', 'd2dofa1.pdb', 'd1kw4a_.pdb', 'd1v43a2.pdb', 'd2gena1.pdb', 'd1j9ia_.pdb', 'd1mdya_.pdb', 'd1vbwa_.pdb', 'd2bh1x1.pdb', 'd1ly2a1.pdb', 'd1tbaa_.pdb', 'd2b8ta2.pdb', 'd1mnta_.pdb', 'd1szpa1.pdb', 'd2cc6a_.pdb', 'd2fk4a1.pdb', 'd2a1ja1.pdb', 'd1eeja2.pdb', 'd1ow5a_.pdb', 'd1z60a1.pdb', 'd2e9xd2.pdb', 'd3cx5e2.pdb', 'd1fs1b1.pdb', 'd2heyr3.pdb', 'd1c0ma1.pdb', 'd2bz6l_.pdb', 'd2fyuk_.pdb', 'd1v43a1.pdb', 'd1xrda1.pdb', 'd2ba0a2.pdb', 'd1ss3a_.pdb', 'd1k6ya1.pdb', 'd1ed7a_.pdb', 'd1q90a3.pdb', 'd1szba2.pdb', 'd1exta2.pdb', 'd1o9aa1.pdb', 'd2jdih1.pdb', 'd1dx5i1.pdb', 'd1b8wa_.pdb', 'd1m56d_.pdb', 'd1wjpa1.pdb', 'd1zuea1.pdb', 'd1a6bb_.pdb', 'd1gl4a2.pdb', 'd1bnba_.pdb', 'd1jb0i_.pdb', 'd1zlhb1.pdb', 'd1kcfa1.pdb', 'd1sisa_.pdb', 'd1ewsa_.pdb', 'd1jb0m_.pdb', 'd1k18a_.pdb', 'd1pnha_.pdb', 'd2adra1.pdb', 'd2j7ja3.pdb', 'd1e3ha4.pdb', 'd1sg1x4.pdb'])"
      ]
     },
     "execution_count": 19,
     "metadata": {},
     "output_type": "execute_result"
    }
   ],
   "source": [
    "start_seq_id.keys()"
   ]
  },
  {
   "cell_type": "code",
   "execution_count": 20,
   "metadata": {},
   "outputs": [
    {
     "name": "stdout",
     "output_type": "stream",
     "text": [
      "['d1a17a_', 'd1a1xa_', 'd1a4ia2', 'd1a6bb_', 'd1a8ya2', 'd1alla_', 'd1auoa_', 'd1b24a2', 'd1b79a_', 'd1b8wa_', 'd1b9ma1', 'd1bnba_', 'd1bo9a_', 'd1boua_', 'd1c0ma1', 'd1c8ba_', 'd1ca1a1', 'd1cg2a2', 'd1cjxa2', 'd1cnva_', 'd1coja1', 'd1cvja2', 'd1d7oa_', 'd1dgwa_', 'd1dmha_', 'd1dv1a3', 'd1dx5i1', 'd1e1oa2', 'd1e3ha4', 'd1e43a1', 'd1e7ua2', 'd1ed7a_', 'd1edha2', 'd1edqa2', 'd1eeja2', 'd1efub2', 'd1ehka_', 'd1ei9a_', 'd1el0a_', 'd1eo0a_', 'd1eova1', 'd1epwa1', 'd1eqfa1', 'd1es6a2', 'd1ewsa_', 'd1exta2', 'd1ez4a2', 'd1f1ua1', 'd1f2ri_', 'd1f3va_', 'd1f45b_', 'd1f7la_', 'd1fcda3', 'd1fj2a_', 'd1fs1b1', 'd1g8qa_', 'd1gkra2', 'd1gksa_', 'd1gkza2', 'd1gl4a2', 'd1gm5a1', 'd1gmea_', 'd1gph12', 'd1grja2', 'd1h72c2', 'd1h99a1', 'd1hcnb_', 'd1hfel2', 'd1hfua2', 'd1hjua_', 'd1hk8a_', 'd1hlqa_', 'd1hn0a1', 'd1hp1a1', 'd1huxa_', 'd1hx0a2', 'd1i3za_', 'd1i4na_', 'd1i5na_', 'd1in0a2', 'd1iuga_', 'd1iuka_', 'd1ixla_', 'd1j56a_', 'd1j5pa3', 'd1j5pa4', 'd1j9ia_', 'd1ja1a3', 'd1jb0i_', 'd1jb0m_', 'd1jf8a_', 'd1ji6a1', 'd1jiha1', 'd1jjta_', 'd1jpya_', 'd1jr2a_', 'd1jroa4', 'd1js8a1', 'd1jvaa2', 'd1jvaa3', 'd1jw2a_', 'd1jwqa_', 'd1jyoa_', 'd1k0ga_', 'd1k18a_', 'd1k32a4', 'd1k3ya1', 'd1k6ya1', 'd1k94a_', 'd1ka8a_', 'd1kbla2', 'd1kcfa1', 'd1kfwa1', 'd1ki1b2', 'd1kiya_', 'd1koba_', 'd1kqka_', 'd1ku9a_', 'd1kw4a_', 'd1kzla1', 'd1kzyc1', 'd1l0wa2', 'd1l3wa5', 'd1l7aa_', 'd1l8qa2', 'd1lbua2', 'd1lbva_', 'd1lfka_', 'd1lj8a4', 'd1llaa3', 'd1ln1a_', 'd1lxja_', 'd1ly2a1', 'd1m3sa_', 'd1m56d_', 'd1m62a_', 'd1mdya_', 'd1mjuh2', 'd1ml4a1', 'd1mnta_', 'd1mpga1', 'd1n00a_', 'd1n4qb_', 'd1n7ea_', 'd1njka_', 'd1nm3a2', 'd1npsa_', 'd1nrfa_', 'd1nxma_', 'd1nyca_', 'd1o5ha_', 'd1o5oa_', 'd1o9aa1', 'd1oaaa_', 'd1oaca2', 'd1ohea1', 'd1omwa1', 'd1opoa_', 'd1ow1a_', 'd1ow5a_', 'd1ozha1', 'd1p2fa1', 'd1p80a2', 'd1pbja3', 'd1pbwa_', 'd1pbya3', 'd1pnha_', 'd1ppja2', 'd1prtb1', 'd1puca_', 'd1pv9a1', 'd1q15a1', 'd1q59a_', 'd1q79a3', 'd1q8fa_', 'd1q90a3', 'd1qe0a1', 'd1qgia_', 'd1qh5a_', 'd1qhqa_', 'd1qhxa_', 'd1qrva_', 'd1qy9a1', 'd1r2za2', 'd1r3da_', 'd1r44a_', 'd1r4xa2', 'd1r53a_', 'd1rf8b_', 'd1rhca_', 'd1ri6a_', 'd1riea_', 'd1rj8a_', 'd1rl4a_', 'd1rp0a1', 'd1rq2a2', 'd1rtra_', 'd1rwta_', 'd1rzfl2', 'd1s16a1', 'd1s5pa_', 'd1s68a_', 'd1s8na_', 'd1s98a_', 'd1sbya_', 'd1sc6a3', 'd1scfa_', 'd1se8a_', 'd1sfea2', 'd1sfna_', 'd1sg1x4', 'd1sgoa_', 'd1sh8a_', 'd1shyb1', 'd1sisa_', 'd1smyf3', 'd1sqga1', 'd1ss3a_', 'd1svva_', 'd1sxje1', 'd1szba2', 'd1szpa1', 'd1szwa_', 'd1t0fa1', 'd1t4wa_', 'd1t8ka_', 'd1tb3a1', 'd1tbaa_', 'd1ttna1', 'd1tu7a2', 'd1u3da1', 'd1u5pa1', 'd1ub0a_', 'd1ulia1', 'd1ulya_', 'd1uoca_', 'd1uqwa_', 'd1urfa_', 'd1uvqa2', 'd1v0wa2', 'd1v43a1', 'd1v43a2', 'd1v5ua_', 'd1v6ba_', 'd1v70a_', 'd1vbwa_', 'd1vcha1', 'd1vk3a4', 'd1vlya1', 'd1vm6a3', 'd1vmda_', 'd1vq8z1', 'd1vzia1', 'd1w1ha_', 'd1w6ka2', 'd1w7ca2', 'd1w9sa_', 'd1wc3a_', 'd1wcga1', 'd1wewa_', 'd1wf6a_', 'd1wffa_', 'd1wfoa1', 'd1whya_', 'd1wifa_', 'd1wiha_', 'd1wjpa1', 'd1wjxa_', 'd1wmia1', 'd1wmxa_', 'd1wp0a1', 'd1x3aa1', 'd1x44a1', 'd1x6oa2', 'd1x7fa1', 'd1x9da1', 'd1xa6a2', 'd1xdpa1', 'd1xfja_', 'd1xhca1', 'd1xksa_', 'd1xl4a1', 'd1xnea_', 'd1xoda1', 'd1xrda1', 'd1xs1a_', 'd1y5ia2', 'd1y5ib_', 'd1y6kr2', 'd1y6xa1', 'd1y81a1', 'd1y9qa2', 'd1ybea2', 'd1ycsb1', 'd1yf3a1', 'd1ygya3', 'd1yo6a1', 'd1yq2a1', 'd1yqba1', 'd1yrea1', 'd1yrva1', 'd1ys5a1', 'd1yt3a1', 'd1z0pa1', 'd1z3ix2', 'd1z60a1', 'd1za0a1', 'd1zara1', 'd1zbxb1', 'd1zc6a1', 'd1zlhb1', 'd1zpsa1', 'd1zsqa1', 'd1zuea1', 'd1zyla1', 'd2a0aa1', 'd2a0ma1', 'd2a1fa1', 'd2a1ja1', 'd2a8ya_', 'd2a9ua1', 'd2adra1', 'd2afwa_', 'd2ag4a_', 'd2aiba1', 'd2auaa1', 'd2b0aa1', 'd2b0ja1', 'd2b1xa1', 'd2b2ya1', 'd2b8ta2', 'd2ba0a2', 'd2bbva_', 'd2bcma_', 'd2bh1x1', 'd2blna1', 'd2bmfa1', 'd2bw3a2', 'd2byla1', 'd2bz6l_', 'd2bz7a_', 'd2bzva_', 'd2c1ia1', 'd2c2la1', 'd2c53a_', 'd2cbia1', 'd2cc6a_', 'd2ccja_', 'd2cfca_', 'd2cg4a2', 'd2chca1', 'd2cnza_', 'd2cqia1', 'd2ctfa1', 'd2cx4a_', 'd2czla1', 'd2dofa1', 'd2dt5a1', 'd2dtge2', 'd2dtge3', 'd2e9xd2', 'd2egja_', 'd2es9a1', 'd2ex4a1', 'd2f2la_', 'd2f7fa2', 'd2f8la1', 'd2fcia1', 'd2fk4a1', 'd2fpna1', 'd2fsja1', 'd2fug34', 'd2fupa1', 'd2fxta1', 'd2fyga1', 'd2fyuk_', 'd2fz4a1', 'd2g0wa1', 'd2g7ga2', 'd2gena1', 'd2ghvc1', 'd2giya1', 'd2gkma_', 'd2gl5a2', 'd2gqfa1', 'd2gria1', 'd2guia_', 'd2gupa2', 'd2gysa3', 'd2gysa4', 'd2h12a_', 'd2heyr3', 'd2hhva2', 'd2hqya2', 'd2hw4a1', 'd2hx1a_', 'd2hy5b1', 'd2i10a2', 'd2i52a1', 'd2ic7a_', 'd2if5a_', 'd2j7ja3', 'd2j9la1', 'd2jdih1', 'd2jf2a_', 'd2jgba_', 'd2jjxa_', 'd2jo6a1', 'd2k5qa1', 'd2lefa_', 'd2lisa_', 'd2nqda_', 'd2nrha1', 'd2nrha2', 'd2nyva_', 'd2o3la1', 'd2oaia1', 'd2ogfa_', 'd2p3ya1', 'd2p6ra3', 'd2pbea2', 'd2plca_', 'd2ps1a_', 'd2q4qa_', 'd2q78a1', 'd2qeea_', 'd2qgsa1', 'd2qqma3', 'd2qvja_', 'd2rcfa1', 'd2rfba_', 'd2rfva_', 'd2sqca1', 'd2uubd1', 'd2uubm1', 'd2v8qb1', 'd2vkva2', 'd2vmha_', 'd2wcja_', 'd2x4da_', 'd2x55a_', 'd2xcea_', 'd2xcmc_', 'd2xrwa_', 'd2xy4a_', 'd2zcwa1', 'd3a38a_', 'd3a8ga_', 'd3aala_', 'd3ag3g_', 'd3b7sa2', 'd3bema_', 'd3bona1', 'd3bvua1', 'd3bvua2', 'd3bwza_', 'd3byqa1', 'd3bzka1', 'd3bzka3', 'd3bzna_', 'd3c98a_', 'd3c9ga_', 'd3cs0a1', 'd3ctaa1', 'd3ctka1', 'd3cu3a1', 'd3cx5e2', 'd3d37a1', 'd3dara1', 'd3dl3a1', 'd3dnpa_', 'd3eg7a_', 'd3ff7c_', 'd3fvsa_', 'd3gdla_', 'd3ge3e_', 'd3ipra_', 'd3iq0a_', 'd3iwta_', 'd3k4ua_', 'd3ktoa_', 'd3ljsa_', 'd3lmba_', 'd3mh9a_', 'd3mu7a_', 'd3mw6a_', 'd3o26a_', 'd3o6ca_', 'd3pmga4', 'd3poza_', 'd3px8x_', 'd3q20a_', 'd3qoma_', 'd3sbta_', 'd3ss1a_', 'd3tuia_', 'd3vhva_', 'd5nula_']\n",
      "['d1y5ia2', 'd1p80a2', 'd1hk8a_', 'd3c98a_', 'd1ehka_', 'd3ss1a_', 'd3bvua2', 'd1y5ib_', 'd1uqwa_', 'd3qoma_', 'd1wcga1', 'd2p3ya1', 'd1x9da1', 'd1shyb1', 'd2bw3a2', 'd3bzna_', 'd2qvja_', 'd1k0ga_', 'd3fvsa_', 'd2h12a_', 'd2qeea_', 'd3bona1', 'd2hhva2', 'd2byla1', 'd1hx0a2', 'd2rfva_', 'd1hn0a1', 'd1lfka_', 'd1kfwa1', 'd1xksa_', 'd1edqa2', 'd1kiya_', 'd1koba_', 'd2sqca1', 'd2xrwa_', 'd1iuga_', 'd1n4qb_', 'd1e1oa2', 'd1svva_', 'd2rfba_', 'd1szwa_', 'd1ri6a_', 'd1hjua_', 'd1tb3a1', 'd1rhca_', 'd1gkra2', 'd1zyla1', 'd2afwa_', 'd2f8la1', 'd3bzka3', 'd1c8ba_', 'd1l7aa_', 'd1n00a_', 'd3ljsa_', 'd1dmha_', 'd1q8fa_', 'd2bbva_', 'd3iq0a_', 'd1u3da1', 'd1z3ix2', 'd2a0ma1', 'd3aala_', 'd1d7oa_', 'd3o26a_', 'd3poza_', 'd1k32a4', 'd1q15a1', 'd1r53a_', 'd1lj8a4', 'd2hx1a_', 'd1cnva_', 'd1js8a1', 'd1ei9a_', 'd1w6ka2', 'd1rp0a1', 'd1rtra_', 'd2g0wa1', 'd3dnpa_', 'd2plca_', 'd2x55a_', 'd3mu7a_', 'd2czla1', 'd2x4da_', 'd1opoa_', 'd2xy4a_', 'd2jf2a_', 'd1uoca_', 'd2a8ya_', 'd1jr2a_', 'd1qh5a_', 'd1huxa_', 'd1oaaa_', 'd1qgia_', 'd1yf3a1', 'd3o6ca_', 'd3px8x_', 'd1r3da_', 'd3gdla_', 'd1xfja_', 'd3vhva_', 'd1sbya_', 'd2gqfa1', 'd3sbta_', 'd1lbva_', 'd1i4na_', 'd2cfca_', 'd1ca1a1', 'd1nrfa_', 'd1ub0a_', 'd3ctka1', 'd1sfna_', 'd2jjxa_', 'd1za0a1', 'd1llaa3', 'd1v0wa2', 'd1yo6a1', 'd1gph12', 'd1s68a_', 'd3k4ua_', 'd1fj2a_', 'd2a1fa1', 'd2c53a_', 'd1s5pa_', 'd2ps1a_', 'd1jjta_', 'd1auoa_', 'd1epwa1', 'd1rwta_', 'd2ex4a1', 'd2nyva_', 'd3tuia_', 'd1l8qa2', 'd1se8a_', 'd1o5oa_', 'd1ppja2', 'd2qgsa1', 'd2uubd1', 'd3b7sa2', 'd3bema_', 'd2fz4a1', 'd2fpna1', 'd3mh9a_', 'd1dv1a3', 'd1ln1a_', 'd1cjxa2', 'd1r44a_', 'd2c2la1', 'd1o5ha_', 'd2p6ra3', 'd1wc3a_', 'd3a8ga_', 'd1t4wa_', 'd2c1ia1', 'd2ccja_', 'd1nxma_', 'd1xs1a_', 'd2auaa1', 'd2fxta1', 'd3byqa1', 'd1s8na_', 'd1ulya_', 'd1hp1a1', 'd2jgba_', 'd2b0aa1', 'd2ic7a_', 'd1pbwa_', 'd1smyf3', 'd1mpga1', 'd1yrea1', 'd2ghvc1', 'd1m3sa_', 'd1jwqa_', 'd1dgwa_', 'd1ozha1', 'd1qhxa_', 'd2giya1', 'd2guia_', 'd2gupa2', 'd1wmxa_', 'd1q59a_', 'd1ez4a2', 'd3bwza_', 'd3eg7a_', 'd1hfua2', 'd1gkza2', 'd1vcha1', 'd1jroa4', 'd1ow1a_', 'd1s16a1', 'd1xhca1', 'd2chca1', 'd2f2la_', 'd3d37a1', 'd3iwta_', 'd1k94a_', 'd2ag4a_', 'd3lmba_', 'd1nm3a2', 'd2b1xa1', 'd2j9la1', 'd3cu3a1', 'd1xl4a1', 'd2cx4a_', 'd2fsja1', 'd1alla_', 'd1ja1a3', 'd1wp0a1', 'd1a17a_', 'd1f3va_', 'd1ohea1', 'd1omwa1', 'd1vmda_', 'd1ybea2', 'd1ys5a1', 'd1rl4a_', 'd1ulia1', 'd1sh8a_', 'd1ku9a_', 'd1gmea_', 'd1ji6a1', 'd1ml4a1', 'd1e7ua2', 'd1yrva1', 'd1w1ha_', 'd2vmha_', 'd1f1ua1', 'd2bzva_', 'd1efub2', 'd2fug34', 'd1k3ya1', 'd1xa6a2', 'd2wcja_', 'd3pmga4', 'd1rj8a_', 'd1sqga1', 'd1eqfa1', 'd1qhqa_', 'd1sgoa_', 'd2bcma_', 'd2vkva2', 'd5nula_', 'd2f7fa2', 'd3ipra_', 'd1iuka_', 'd2bmfa1', 'd1eova1', 'd1w9sa_', 'd2a9ua1', 'd2hqya2', 'd1f45b_', 'd1h72c2', 'd1kbla2', 'd1njka_', 'd1r2za2', 'd1boua_', 'd1j5pa4', 'd1ki1b2', 'd1wf6a_', 'd2g7ga2', 'd2hy5b1', 'd2a0aa1', 'd2lisa_', 'd1ixla_', 'd1jf8a_', 'd1jyoa_', 'd1lbua2', 'd1ycsb1', 'd2q78a1', 'd3c9ga_', 'd2cbia1', 'd2xcea_', 'd1i5na_', 'd1vm6a3', 'd2fupa1', 'd1qy9a1', 'd1riea_', 'd1w7ca2', 'd2gkma_', 'd1kzyc1', 'd1wifa_', 'd2egja_', 'd1a4ia2', 'd1zsqa1', 'd2dtge3', 'd2uubm1', 'd1j56a_', 'd1q79a3', 'd1zpsa1', 'd2cnza_', 'd2fyga1', 'd1b9ma1', 'd2gl5a2', 'd2q4qa_', 'd3ktoa_', 'd3mw6a_', 'd1jpya_', 'd2ogfa_', 'd1jiha1', 'd1l0wa2', 'd1pbja3', 'd1scfa_', 'd1f7la_', 'd1v6ba_', 'd1zbxb1', 'd2pbea2', 'd1v5ua_', 'd1wfoa1', 'd1x7fa1', 'd2nrha2', 'd1pv9a1', 'd1y81a1', 'd2dtge2', 'd1h99a1', 'd2if5a_', 'd1zc6a1', 'd2i52a1', 'd3q20a_', 'd1cg2a2', 'd1xnea_', 'd1edha2', 'd1wjxa_', 'd1yq2a1', 'd2gria1', 'd3ff7c_', 'd1nyca_', 'd1r4xa2', 'd3bvua1', 'd1hcnb_', 'd1prtb1', 'd1u5pa1', 'd2hw4a1', 'd2i10a2', 'd1es6a2', 'd2nqda_', 'd2jo6a1', 'd1jvaa3', 'd1l3wa5', 'd1rq2a2', 'd1a1xa_', 'd1jvaa2', 'd1y6kr2', 'd1v70a_', 'd1xdpa1', 'd1xoda1', 'd2fcia1', 'd1lxja_', 'd2qqma3', 'd1i3za_', 'd1j5pa3', 'd1a8ya2', 'd1b79a_', 'd1rzfl2', 'd2b0ja1', 'd2bz7a_', 'd3ge3e_', 'd1puca_', 'd1yt3a1', 'd2blna1', 'd1f2ri_', 'd1ka8a_', 'd1rf8b_', 'd1t0fa1', 'd1gm5a1', 'd1sxje1', 'd1y9qa2', 'd3cs0a1', 'd2aiba1', 'd1p2fa1', 'd1s98a_', 'd1whya_', 'd2es9a1', 'd3dara1', 'd1mjuh2', 'd1vk3a4', 'd2k5qa1', 'd3dl3a1', 'd1n7ea_', 'd1oaca2', 'd1qe0a1', 'd2gysa3', 'd1kzla1', 'd2xcmc_', 'd1e43a1', 'd1g8qa_', 'd1x44a1', 'd2cqia1', 'd2ctfa1', 'd3bzka1', 'd1coja1', 'd1cvja2', 'd1zara1', 'd2gysa4', 'd1npsa_', 'd1vzia1', 'd1wmia1', 'd1m62a_', 'd1x3aa1', 'd1y6xa1', 'd2cg4a2', 'd2lefa_', 'd1hfel2', 'd1wffa_', 'd3ctaa1', 'd1sc6a3', 'd1wiha_', 'd1yqba1', 'd3ag3g_', 'd1uvqa2', 'd3a38a_', 'd1vlya1', 'd2o3la1', 'd2rcfa1', 'd2zcwa1', 'd1sfea2', 'd1urfa_', 'd1kqka_', 'd1ttna1', 'd2b2ya1', 'd2oaia1', 'd1b24a2', 'd1x6oa2', 'd1gksa_', 'd1pbya3', 'd1wewa_', 'd1ygya3', 'd1eo0a_', 'd1t8ka_', 'd1tu7a2', 'd1hlqa_', 'd2nrha1', 'd1el0a_', 'd1fcda3', 'd1in0a2', 'd2dt5a1', 'd1bo9a_', 'd1grja2', 'd1qrva_', 'd1vq8z1', 'd1z0pa1', 'd2v8qb1', 'd1jw2a_', 'd2dofa1', 'd1kw4a_', 'd1v43a2', 'd2gena1', 'd1j9ia_', 'd1mdya_', 'd1vbwa_', 'd2bh1x1', 'd1ly2a1', 'd1tbaa_', 'd2b8ta2', 'd1mnta_', 'd1szpa1', 'd2cc6a_', 'd2fk4a1', 'd2a1ja1', 'd1eeja2', 'd1ow5a_', 'd1z60a1', 'd2e9xd2', 'd3cx5e2', 'd1fs1b1', 'd2heyr3', 'd1c0ma1', 'd2bz6l_', 'd2fyuk_', 'd1v43a1', 'd1xrda1', 'd2ba0a2', 'd1ss3a_', 'd1k6ya1', 'd1ed7a_', 'd1q90a3', 'd1szba2', 'd1exta2', 'd1o9aa1', 'd2jdih1', 'd1dx5i1', 'd1b8wa_', 'd1m56d_', 'd1wjpa1', 'd1zuea1', 'd1a6bb_', 'd1gl4a2', 'd1bnba_', 'd1jb0i_', 'd1zlhb1', 'd1kcfa1', 'd1sisa_', 'd1ewsa_', 'd1jb0m_', 'd1k18a_', 'd1pnha_', 'd2adra1', 'd2j7ja3', 'd1e3ha4', 'd1sg1x4']\n"
     ]
    }
   ],
   "source": [
    "fold_pdb_ids = [k.replace('.pdb', '') for k in fold_entries.keys()]\n",
    "post_pdb_ids = [k.replace('_pdb', '') for k in post_entries.keys()]\n",
    "fold_start_ids = [k.replace('.pdb', '') for k in start_seq_id.keys()]\n",
    "\n",
    "print(fold_pdb_ids)\n",
    "print(fold_start_ids)"
   ]
  },
  {
   "cell_type": "code",
   "execution_count": 23,
   "metadata": {},
   "outputs": [
    {
     "name": "stdout",
     "output_type": "stream",
     "text": [
      "498\n",
      "498\n",
      "{'d1zc6a1', 'd2if5a_', 'd2c1ia1', 'd1g8qa_', 'd1f45b_', 'd2gqfa1', 'd2giya1', 'd1prtb1', 'd1f2ri_', 'd1vlya1', 'd3dl3a1', 'd1xoda1', 'd2c2la1', 'd1szba2', 'd3c9ga_', 'd1a4ia2', 'd1r2za2', 'd1rwta_', 'd1xnea_', 'd3qoma_', 'd1n7ea_', 'd1jjta_', 'd1lbva_', 'd1rj8a_', 'd1c8ba_', 'd2ccja_', 'd2a8ya_', 'd1szwa_', 'd1wiha_', 'd1b9ma1', 'd3bzka1', 'd2sqca1', 'd1ohea1', 'd2nrha1', 'd1sh8a_', 'd2pbea2', 'd3ipra_', 'd1tb3a1', 'd1ulia1', 'd1bnba_', 'd1d7oa_', 'd1rzfl2', 'd1wfoa1', 'd2wcja_', 'd3ktoa_', 'd3dnpa_', 'd2x55a_', 'd1sfna_', 'd1m3sa_', 'd1ppja2', 'd1q90a3', 'd1r3da_', 'd1z3ix2', 'd1sxje1', 'd2gena1', 'd1o9aa1', 'd2b0aa1', 'd2gysa4', 'd1r44a_', 'd1k18a_', 'd1jf8a_', 'd1z0pa1', 'd1szpa1', 'd1cg2a2', 'd3gdla_', 'd1wifa_', 'd1lbua2', 'd1whya_', 'd1yo6a1', 'd2nrha2', 'd1in0a2', 'd1s98a_', 'd2hqya2', 'd1ewsa_', 'd1ka8a_', 'd2a9ua1', 'd1k94a_', 'd1eeja2', 'd1k32a4', 'd2ag4a_', 'd1kzyc1', 'd2xcea_', 'd1a17a_', 'd2a1fa1', 'd1iuka_', 'd1ja1a3', 'd2fyga1', 'd2q78a1', 'd1jvaa3', 'd2egja_', 'd2dtge2', 'd1kw4a_', 'd1uoca_', 'd1scfa_', 'd2h12a_', 'd1kbla2', 'd1l0wa2', 'd2cg4a2', 'd1vbwa_', 'd1wf6a_', 'd2fupa1', 'd1v43a2', 'd2jo6a1', 'd2adra1', 'd1s68a_', 'd1ozha1', 'd2a0ma1', 'd1s8na_', 'd1m56d_', 'd3poza_', 'd3o6ca_', 'd2chca1', 'd1edqa2', 'd1kqka_', 'd2gkma_', 'd1w9sa_', 'd1yq2a1', 'd1jw2a_', 'd1urfa_', 'd1ow5a_', 'd1mnta_', 'd2bzva_', 'd1xhca1', 'd2xy4a_', 'd1v43a1', 'd2gl5a2', 'd1nm3a2', 'd1x3aa1', 'd1a8ya2', 'd3q20a_', 'd1ed7a_', 'd1s5pa_', 'd2qvja_', 'd1auoa_', 'd1ku9a_', 'd3k4ua_', 'd2jf2a_', 'd1iuga_', 'd1lxja_', 'd1sc6a3', 'd1v5ua_', 'd3ss1a_', 'd2uubd1', 'd3a8ga_', 'd2lisa_', 'd1b8wa_', 'd1uqwa_', 'd1s16a1', 'd1f7la_', 'd2nyva_', 'd2gupa2', 'd2bcma_', 'd3b7sa2', 'd2es9a1', 'd1dgwa_', 'd1jiha1', 'd1gl4a2', 'd1i4na_', 'd1ycsb1', 'd1k0ga_', 'd1oaca2', 'd2ic7a_', 'd1xrda1', 'd3bzna_', 'd1shyb1', 'd1nyca_', 'd3c98a_', 'd1lj8a4', 'd3tuia_', 'd1mpga1', 'd1y5ia2', 'd2c53a_', 'd1l7aa_', 'd1wffa_', 'd1dmha_', 'd1gm5a1', 'd2gysa3', 'd2f8la1', 'd1llaa3', 'd3bvua2', 'd1oaaa_', 'd3sbta_', 'd3mu7a_', 'd3vhva_', 'd3iq0a_', 'd1yf3a1', 'd1t4wa_', 'd1nrfa_', 'd1jb0m_', 'd1yrea1', 'd3d37a1', 'd3ljsa_', 'd1v70a_', 'd1fj2a_', 'd1gkza2', 'd2zcwa1', 'd1qgia_', 'd1c0ma1', 'd1edha2', 'd1gksa_', 'd1ss3a_', 'd1koba_', 'd1ml4a1', 'd1e1oa2', 'd1xfja_', 'd3bvua1', 'd1ys5a1', 'd1b79a_', 'd3ctaa1', 'd1sg1x4', 'd1rf8b_', 'd1hcnb_', 'd1yqba1', 'd1vk3a4', 'd1wcga1', 'd1eqfa1', 'd2i52a1', 'd1q15a1', 'd1k3ya1', 'd2cqia1', 'd3lmba_', 'd3mw6a_', 'd2ogfa_', 'd1e3ha4', 'd2byla1', 'd2xcmc_', 'd1z60a1', 'd1h99a1', 'd2jgba_', 'd1nxma_', 'd1opoa_', 'd2auaa1', 'd1wc3a_', 'd1n00a_', 'd1jb0i_', 'd2qgsa1', 'd1ulya_', 'd3bona1', 'd1k6ya1', 'd1wjpa1', 'd1cvja2', 'd1bo9a_', 'd1fcda3', 'd1v0wa2', 'd1q79a3', 'd1kfwa1', 'd1mjuh2', 'd1kiya_', 'd1w7ca2', 'd1pbja3', 'd2bw3a2', 'd1dv1a3', 'd3bwza_', 'd1vm6a3', 'd1q59a_', 'd3ag3g_', 'd2heyr3', 'd2dofa1', 'd1w1ha_', 'd3bema_', 'd2o3la1', 'd2czla1', 'd2vmha_', 'd1sqga1', 'd1wmia1', 'd1ca1a1', 'd1l8qa2', 'd2g7ga2', 'd1zara1', 'd1js8a1', 'd5nula_', 'd1rtra_', 'd2hhva2', 'd1npsa_', 'd1zuea1', 'd2vkva2', 'd1kcfa1', 'd1sisa_', 'd1hn0a1', 'd1yt3a1', 'd2e9xd2', 'd1o5oa_', 'd1hlqa_', 'd1i3za_', 'd1cnva_', 'd1zlhb1', 'd1ehka_', 'd1y6xa1', 'd1es6a2', 'd1njka_', 'd1kzla1', 'd2lefa_', 'd1y81a1', 'd1tu7a2', 'd2ex4a1', 'd3ctka1', 'd1m62a_', 'd1hjua_', 'd1yrva1', 'd2ps1a_', 'd1y5ib_', 'd2j9la1', 'd1uvqa2', 'd2cx4a_', 'd1ji6a1', 'd1exta2', 'd2bz7a_', 'd1za0a1', 'd3aala_', 'd3o26a_', 'd2fxta1', 'd1xl4a1', 'd1smyf3', 'd1vmda_', 'd2x4da_', 'd1ttna1', 'd2cc6a_', 'd1zsqa1', 'd1o5ha_', 'd1mdya_', 'd1r4xa2', 'd1xksa_', 'd3iwta_', 'd1eova1', 'd1hk8a_', 'd1sbya_', 'd1rhca_', 'd1omwa1', 'd3ge3e_', 'd1q8fa_', 'd1p2fa1', 'd1l3wa5', 'd1wjxa_', 'd3cs0a1', 'd2hx1a_', 'd1v6ba_', 'd2fsja1', 'd1eo0a_', 'd1r53a_', 'd1e43a1', 'd1j5pa4', 'd1ixla_', 'd1vzia1', 'd3px8x_', 'd3eg7a_', 'd1xs1a_', 'd1lfka_', 'd1wewa_', 'd1ly2a1', 'd3bzka3', 'd2nqda_', 'd2uubm1', 'd1zyla1', 'd3mh9a_', 'd2bmfa1', 'd2jjxa_', 'd2fug34', 'd2b1xa1', 'd1t0fa1', 'd1x44a1', 'd1x7fa1', 'd1x6oa2', 'd1gph12', 'd2j7ja3', 'd1ei9a_', 'd2bh1x1', 'd2ba0a2', 'd2p6ra3', 'd1y9qa2', 'd1p80a2', 'd1grja2', 'd2cnza_', 'd2ghvc1', 'd2fcia1', 'd1j5pa3', 'd2rcfa1', 'd1pbya3', 'd2aiba1', 'd3fvsa_', 'd2v8qb1', 'd1huxa_', 'd1jroa4', 'd1qhqa_', 'd2dt5a1', 'd1t8ka_', 'd3dara1', 'd2bz6l_', 'd3a38a_', 'd1zbxb1', 'd2dtge3', 'd1hp1a1', 'd1pbwa_', 'd1epwa1', 'd2b2ya1', 'd1hfua2', 'd2f7fa2', 'd2cbia1', 'd2a0aa1', 'd1j9ia_', 'd1f1ua1', 'd2k5qa1', 'd2qeea_', 'd1hfel2', 'd2rfva_', 'd2blna1', 'd1boua_', 'd1u5pa1', 'd1sgoa_', 'd1riea_', 'd2cfca_', 'd3byqa1', 'd1qe0a1', 'd1el0a_', 'd2fk4a1', 'd1pnha_', 'd2ctfa1', 'd1qy9a1', 'd1coja1', 'd1ub0a_', 'd2qqma3', 'd1ow1a_', 'd2guia_', 'd2b8ta2', 'd1xa6a2', 'd2b0ja1', 'd2fz4a1', 'd1h72c2', 'd1a1xa_', 'd2plca_', 'd1qh5a_', 'd1n4qb_', 'd1ln1a_', 'd2q4qa_', 'd2f2la_', 'd1gmea_', 'd1pv9a1', 'd1e7ua2', 'd1tbaa_', 'd1jwqa_', 'd2oaia1', 'd1ybea2', 'd2afwa_', 'd3cx5e2', 'd2a1ja1', 'd2fyuk_', 'd1svva_', 'd2gria1', 'd1x9da1', 'd2jdih1', 'd1f3va_', 'd1jyoa_', 'd1sfea2', 'd1jvaa2', 'd1hx0a2', 'd1ygya3', 'd1qhxa_', 'd2hw4a1', 'd2fpna1', 'd1vcha1', 'd1zpsa1', 'd1wp0a1', 'd2bbva_', 'd1rp0a1', 'd1a6bb_', 'd1rq2a2', 'd1se8a_', 'd1rl4a_', 'd1w6ka2', 'd3cu3a1', 'd1efub2', 'd2g0wa1', 'd1xdpa1', 'd2p3ya1', 'd1vq8z1', 'd1u3da1', 'd1jr2a_', 'd2i10a2', 'd1ki1b2', 'd1b24a2', 'd1ri6a_', 'd1cjxa2', 'd1y6kr2', 'd1wmxa_', 'd3ff7c_', 'd2xrwa_', 'd1alla_', 'd1gkra2', 'd1i5na_', 'd1dx5i1', 'd1ez4a2', 'd1puca_', 'd3pmga4', 'd1j56a_', 'd2rfba_', 'd1fs1b1', 'd2hy5b1', 'd1jpya_', 'd1qrva_'}\n"
     ]
    }
   ],
   "source": [
    "pdb_intersect = set(fold_pdb_ids).intersection(set(fold_start_ids))\n",
    "print(len(fold_start_ids))\n",
    "print(len(pdb_intersect))\n",
    "print(pdb_intersect)"
   ]
  },
  {
   "cell_type": "markdown",
   "metadata": {},
   "source": [
    "## Victors substitution matrix comparison"
   ]
  },
  {
   "cell_type": "code",
   "execution_count": 34,
   "metadata": {
    "metadata": {}
   },
   "outputs": [],
   "source": [
    "def read_substitution_matrix(matrix_str):\n",
    "    # Split the string into lines\n",
    "    lines = matrix_str.strip().split(\"\\n\")\n",
    "    \n",
    "    lines = lines[3:]\n",
    "    \n",
    "    # Extract the header (amino acids)\n",
    "    header = lines[0].split()\n",
    "    \n",
    "    # Initialize the substitution matrix dictionary\n",
    "    subMat = {}\n",
    "    \n",
    "    # Process each line after the header\n",
    "    for line in lines[1:]:\n",
    "        parts = line.split()\n",
    "        row_letter = parts[0]\n",
    "        scores = parts[1:]\n",
    "        \n",
    "        # Ensure the row exists in the dictionary\n",
    "        subMat[row_letter] = {}\n",
    "        \n",
    "        # Populate the row with scores\n",
    "        for col_letter, score in zip(header, scores):\n",
    "            subMat[row_letter][col_letter] = int(score)\n",
    "    \n",
    "    return subMat\n",
    "\n",
    "\n",
    "def id_percentage(str1, str2):\n",
    "    if len(str1) != len(str2):\n",
    "        str1=str1[:min(len(str1),len(str2))]\n",
    "        str2=str2[:min(len(str1),len(str2))]\n",
    "    matches = float(sum(c1 == c2 for c1, c2 in zip(str1, str2)))\n",
    "    \n",
    "    identity = float((matches / len(str1))) * 100.0\n",
    "\n",
    "    return identity\n",
    "\n",
    "with open('data/mat3di.out') as fh:\n",
    "    content = fh.read()\n",
    "    subMat = read_substitution_matrix(content)\n",
    "    \n",
    "\n",
    "identity_percentage = id_percentage\n",
    "\n",
    "id=''\n",
    "fs_seqs={}\n",
    "lens=[]\n",
    "with open(fsk_base_fa, 'r') as fs:\n",
    "    for line in fs:\n",
    "        if line[0]=='>':\n",
    "            id=line.strip().replace('.pdb', '')\n",
    "        else:\n",
    "            fs_seqs[id]=line.strip()\n",
    "            lens.append(len(line.strip())) \n",
    "           \n",
    "prostT5_seqs={}\n",
    "with open(pt5_base_fa, 'r') as pt5:\n",
    "    for line in pt5:\n",
    "        if line[0]=='>':\n",
    "            id=line.strip().replace('.pdb', '')\n",
    "        else:\n",
    "            prostT5_seqs[id]=line.strip()\n",
    "            \n",
    "fs_profile_seqs={}\n",
    "with open(fsk_cons_fa, 'r') as prof:\n",
    "    for line in prof:\n",
    "        if line[0]=='>':\n",
    "            id=line.strip().replace('.pdb', '')\n",
    "        else:\n",
    "            fs_profile_seqs[id]=line.strip()\n",
    "            \n",
    "pt5_profile_seqs={}\n",
    "with open(pt5_cons_fa, 'r') as prof:\n",
    "    for line in prof:\n",
    "        if line[0]=='>':\n",
    "            id=line.strip().replace('_pdb', '')\n",
    "        else:\n",
    "            pt5_profile_seqs[id]=line.strip()\n",
    "fs_percentage=[]\n",
    "pt5_percentage=[]\n",
    "\n",
    "sum_seq=0\n",
    "\n",
    "for id in fs_seqs:\n",
    "    fs_percentage.append(id_percentage(fs_seqs[id], fs_profile_seqs[id]))\n",
    "    pt5_percentage.append(id_percentage(prostT5_seqs[id], pt5_profile_seqs[id]))\n",
    "\n",
    "size = 500   \n",
    "fs_percentage_sorted=sorted(fs_percentage)\n",
    "pt5_percentage_sorted=sorted(pt5_percentage)\n",
    "percentages=[0.1*i for i in range(size)]\n",
    "cnt1=0\n",
    "cnt2=0\n",
    "fs=[]\n",
    "pt5=[]\n",
    "\n",
    "for i in range(size):\n",
    "    while(fs_percentage_sorted[cnt1]<percentages[i]):\n",
    "        cnt1+=1\n",
    "    while(pt5_percentage_sorted[cnt2]<percentages[i]):\n",
    "        cnt2+=1\n",
    "    fs.append(1-(cnt1/len(fs_percentage_sorted)))\n",
    "    pt5.append(1-(cnt2/len(pt5_percentage_sorted)))"
   ]
  },
  {
   "cell_type": "code",
   "execution_count": 35,
   "metadata": {
    "metadata": {}
   },
   "outputs": [
    {
     "name": "stdout",
     "output_type": "stream",
     "text": [
      "498\n",
      "498\n",
      "1\n",
      "84\n",
      "500\n"
     ]
    }
   ],
   "source": [
    "print(len(fs_percentage_sorted))\n",
    "print(len(pt5_percentage_sorted))\n",
    "print(cnt1)\n",
    "print(cnt2)\n",
    "print(len(percentages))"
   ]
  },
  {
   "cell_type": "code",
   "execution_count": 36,
   "metadata": {
    "metadata": {}
   },
   "outputs": [],
   "source": [
    "import seaborn as sns\n",
    "from matplotlib import pyplot as plt\n",
    "plt.rcParams.update({'font.size': 10})\n",
    "sns.set_style('whitegrid')\n",
    "fig, axs=plt.subplots(1,3,figsize=(22.5,5))\n",
    "pt5_better_pt5=[]\n",
    "pt5_better_fs=[]\n",
    "fs_better_pt5=[]\n",
    "fs_better_fs=[]\n",
    "for i in range(len(fs_percentage)):\n",
    "    if fs_percentage[i] > pt5_percentage[i]:\n",
    "        fs_better_pt5.append(pt5_percentage[i])\n",
    "        fs_better_fs.append(fs_percentage[i])\n",
    "    elif fs_percentage[i] < pt5_percentage[i] :\n",
    "        pt5_better_pt5.append(pt5_percentage[i])\n",
    "        pt5_better_fs.append(fs_percentage[i])\n",
    "axs[0].scatter(pt5_better_pt5, pt5_better_fs, color='red', marker='x')\n",
    "axs[0].scatter(fs_better_pt5, fs_better_fs, color='black', marker='x')\n",
    "axs[0].plot([50,100], [50,100], color='black')\n",
    "axs[0].set_xlim(left=50)\n",
    "axs[0].set_ylim(bottom=50)\n",
    "axs[0].set_title('Indentity % between 3Di sequence and profile')\n",
    "axs[0].set_xlabel('ProstT5 identity %')\n",
    "axs[0].set_ylabel('PDB identity %')\n",
    "\n",
    "axs[1].hist(fs_percentage, bins=30, label='PDB', alpha=0.5, density=True, color='black')\n",
    "axs[1].hist(pt5_percentage, bins=30, label='ProstT5', alpha=0.5, density=True, color='red')\n",
    "axs[1].set_title('Density of sequence identity between 3Di sequence and profile')\n",
    "axs[1].set_ylabel('Density')\n",
    "axs[1].set_xlabel('Identity %')\n",
    "#axs[1].legend()\n",
    "\n",
    "axs[2].plot(fs, percentages, label='PDB', color='black')\n",
    "axs[2].plot(pt5, percentages, label='ProstT5', color='red')\n",
    "axs[2].legend()\n",
    "axs[2].set_ylabel('Identity %')\n",
    "axs[2].set_xlabel('Sequence coverage')\n",
    "axs[2].set_title('Percentage of 3Di sequences over identity treshold')\n",
    "\n",
    "plt.subplots_adjust(wspace=0.3)\n",
    "\n",
    "fig.savefig(\"Identity_percentage_visualization.svg\", bbox_inches='tight', dpi=500, pad_inches=0.3)"
   ]
  }
 ],
 "metadata": {
  "kernelspec": {
   "display_name": "prostt5",
   "language": "python",
   "name": "python3"
  },
  "language_info": {
   "codemirror_mode": {
    "name": "ipython",
    "version": 3
   },
   "file_extension": ".py",
   "mimetype": "text/x-python",
   "name": "python",
   "nbconvert_exporter": "python",
   "pygments_lexer": "ipython3",
   "version": "3.10.13"
  }
 },
 "nbformat": 4,
 "nbformat_minor": 2
}
